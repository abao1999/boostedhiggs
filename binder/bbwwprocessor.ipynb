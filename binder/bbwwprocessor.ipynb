{
 "cells": [
  {
   "cell_type": "code",
   "execution_count": 1,
   "metadata": {},
   "outputs": [
    {
     "name": "stdout",
     "output_type": "stream",
     "text": [
      "/Users/cmantill/CMS/HWW/HH/boostedhiggs/boostedhiggs/data\n"
     ]
    }
   ],
   "source": [
    "from coffea import processor, util\n",
    "from coffea.nanoevents import NanoAODSchema\n",
    "from boostedhiggs import bbwwprocessor"
   ]
  },
  {
   "cell_type": "code",
   "execution_count": 2,
   "metadata": {},
   "outputs": [],
   "source": [
    "files = {\n",
    "    'BG_hhTohVVhbb_2500': [\n",
    "        '/Users/cmantill/CMS/HWW/HH/boostedhiggs/binder/data/BulkGravTohhTohVVhbb_narrow_M-2500_TuneCP5_13TeV-madgraph-pythia8_nano_mc2017_1.root',\n",
    "    ]\n",
    "}"
   ]
  },
  {
   "cell_type": "code",
   "execution_count": 3,
   "metadata": {},
   "outputs": [
    {
     "data": {
      "application/vnd.jupyter.widget-view+json": {
       "model_id": "911f49f88c7b46e4bb8015fd22ba696a",
       "version_major": 2,
       "version_minor": 0
      },
      "text/plain": [
       "HBox(children=(HTML(value='Preprocessing'), FloatProgress(value=0.0, max=1.0), HTML(value='')))"
      ]
     },
     "metadata": {},
     "output_type": "display_data"
    },
    {
     "name": "stdout",
     "output_type": "stream",
     "text": [
      "\n"
     ]
    },
    {
     "data": {
      "application/vnd.jupyter.widget-view+json": {
       "model_id": "13db5f2d8f044ed4a07be98460e32bcb",
       "version_major": 2,
       "version_minor": 0
      },
      "text/plain": [
       "HBox(children=(HTML(value='Processing'), FloatProgress(value=0.0, max=1.0), HTML(value='')))"
      ]
     },
     "metadata": {},
     "output_type": "display_data"
    },
    {
     "name": "stderr",
     "output_type": "stream",
     "text": [
      "/Users/cmantill/miniconda3/envs/hww/lib/python3.7/site-packages/awkward/_connect/_numpy.py:151: RuntimeWarning: invalid value encountered in sqrt\n",
      "  *[nplike.asarray(x) for x in inputs], **kwargs\n"
     ]
    },
    {
     "name": "stdout",
     "output_type": "stream",
     "text": [
      "\n"
     ]
    }
   ],
   "source": [
    "p = bbwwprocessor.HHbbWW(year='2017')\n",
    "exe_config = {\n",
    "    'flatten': True,\n",
    "    'workers': 4,\n",
    "    'savemetrics': True,\n",
    "    'compression': 0,\n",
    "    'nano': True,\n",
    "}\n",
    "\n",
    "NanoAODSchema.mixins[\"FatJetLS\"] = \"PtEtaPhiMLorentzVector\"\n",
    "\n",
    "output = processor.run_uproot_job(files,\"Events\",p,processor.iterative_executor,{\"schema\": NanoAODSchema})"
   ]
  },
  {
   "cell_type": "code",
   "execution_count": 4,
   "metadata": {},
   "outputs": [
    {
     "name": "stdout",
     "output_type": "stream",
     "text": [
      "defaultdict_accumulator(..., {'BG_hhTohVVhbb_2500': defaultdict_accumulator(<class 'float'>, {'none': 138045.03904514838, 'trigger_mu': 138045.03904514838, 'met_filters': 135697.18024553428, 'nleptons_mu': 16951.026059836367, 'hbb_btag': 11427.904231857152, 'hbb_vetobtagaway': 1042.385248347738, 'hww_tau21_LP': 915.4336438346257, 'hh_mass': 242.1176367758431, 'hh_centrality': 235.46709799112878})})\n"
     ]
    }
   ],
   "source": [
    "print(output['cutflow_SR_mu'])"
   ]
  },
  {
   "cell_type": "code",
   "execution_count": null,
   "metadata": {},
   "outputs": [],
   "source": [
    "from coffea.util import save\n",
    "save(output,'hists_hww_local.coffea')"
   ]
  }
 ],
 "metadata": {
  "kernelspec": {
   "display_name": "Python 3",
   "language": "python",
   "name": "python3"
  },
  "language_info": {
   "codemirror_mode": {
    "name": "ipython",
    "version": 3
   },
   "file_extension": ".py",
   "mimetype": "text/x-python",
   "name": "python",
   "nbconvert_exporter": "python",
   "pygments_lexer": "ipython3",
   "version": "3.7.9"
  }
 },
 "nbformat": 4,
 "nbformat_minor": 2
}
