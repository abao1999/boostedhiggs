{
 "cells": [
  {
   "cell_type": "code",
   "execution_count": null,
   "metadata": {},
   "outputs": [
    {
     "name": "stdout",
     "output_type": "stream",
     "text": [
      "/Users/cmantill/CMS/HWW/HH/boostedhiggs/boostedhiggs/data\n"
     ]
    },
    {
     "name": "stderr",
     "output_type": "stream",
     "text": [
      "/Users/cmantill/miniconda3/envs/hww/lib/python3.7/site-packages/coffea/lookup_tools/txt_converters.py:182: UserWarning: binning for file for Summer16_07Aug2017_V11_MC_L2Relative_AK4PFchs is malformed in variable JetPt\n",
      "  % (name, layout[i + offset_name])\n",
      "/Users/cmantill/miniconda3/envs/hww/lib/python3.7/site-packages/coffea/lookup_tools/txt_converters.py:280: UserWarning: JERSF file is in the new format with split-out systematic, only parsing totals!!!\n",
      "  \"JERSF file is in the new format with split-out systematic, only parsing totals!!!\"\n"
     ]
    }
   ],
   "source": [
    "from coffea import processor, util\n",
    "from coffea.nanoevents import NanoAODSchema\n",
    "from boostedhiggs import bbwwprocessor"
   ]
  },
  {
   "cell_type": "code",
   "execution_count": null,
   "metadata": {},
   "outputs": [],
   "source": [
    "files = {\n",
    "    'BG_hhTohVVhbb_2500': [\n",
    "        '/Users/cmantill/CMS/HWW/HH/boostedhiggs/binder/data/BulkGravTohhTohVVhbb_narrow_M-2500_TuneCP5_13TeV-madgraph-pythia8_nano_mc2017_1.root',\n",
    "    ]\n",
    "}"
   ]
  },
  {
   "cell_type": "code",
   "execution_count": null,
   "metadata": {},
   "outputs": [],
   "source": [
    "p = bbwwprocessor.HHbbWW(year='2017')\n",
    "exe_config = {\n",
    "    'flatten': True,\n",
    "    'workers': 4,\n",
    "    'savemetrics': True,\n",
    "    'compression': 0,\n",
    "    'nano': True,\n",
    "}\n",
    "\n",
    "NanoAODSchema.mixins[\"FatJetLS\"] = \"PtEtaPhiMLorentzVector\"\n",
    "\n",
    "output = processor.run_uproot_job(files,\"Events\",p,processor.iterative_executor,{\"schema\": NanoAODSchema})"
   ]
  },
  {
   "cell_type": "code",
   "execution_count": null,
   "metadata": {},
   "outputs": [],
   "source": [
    "print(output['cutflow_SR_e'])\n",
    "print(output['cutflow_SR_mu'])"
   ]
  },
  {
   "cell_type": "code",
   "execution_count": null,
   "metadata": {},
   "outputs": [],
   "source": [
    "from coffea import hist\n",
    "%matplotlib inline\n",
    "import matplotlib.pyplot as plt\n",
    "import mplhep as hep\n",
    "plt.style.use(hep.style.CMS)\n",
    "\n",
    "h = output['hbb_kinematics']\n",
    "hist.plot1d(h.sum('hbb_msd','hbb_deepak8').integrate('channel','mu'), overlay='dataset')\n",
    "hist.plot1d(h.sum('hbb_msd','hbb_deepak8').integrate('channel','e'), overlay='dataset')\n",
    "plt.show()\n",
    "plt.clf()\n",
    "hist.plot1d(h.sum('hbb_pt','hbb_deepak8').integrate('channel','mu'), overlay='dataset')\n",
    "hist.plot1d(h.sum('hbb_pt','hbb_deepak8').integrate('channel','e'), overlay='dataset')\n",
    "plt.show()\n",
    "plt.clf()\n",
    "hist.plot1d(h.sum('hbb_pt','hbb_msd').integrate('channel','mu'), overlay='dataset')\n",
    "hist.plot1d(h.sum('hbb_pt','hbb_msd').integrate('channel','e'), overlay='dataset')\n",
    "plt.show()\n",
    "plt.clf()\n",
    "\n",
    "h = output['hww_kinematics']\n",
    "hist.plot1d(h.sum('hwwls_pt','hww_mass').integrate('channel','mu'), overlay='dataset')\n",
    "hist.plot1d(h.sum('hwwls_pt','hww_mass').integrate('channel','e'), overlay='dataset')\n",
    "plt.show()\n",
    "plt.clf()\n",
    "hist.plot1d(h.sum('hww_mass','hww_pt').integrate('channel','mu'), overlay='dataset')\n",
    "hist.plot1d(h.sum('hww_mass','hww_pt').integrate('channel','e'), overlay='dataset')\n",
    "plt.show()\n",
    "plt.clf()\n",
    "hist.plot1d(h.sum('hwwls_pt','hww_pt').integrate('channel','mu'), overlay='dataset')\n",
    "hist.plot1d(h.sum('hwwls_pt','hww_pt').integrate('channel','e'), overlay='dataset')\n",
    "plt.show()\n",
    "plt.clf()"
   ]
  },
  {
   "cell_type": "code",
   "execution_count": null,
   "metadata": {},
   "outputs": [],
   "source": [
    "from coffea.util import save\n",
    "save(output,'hists_hww_local.coffea')"
   ]
  }
 ],
 "metadata": {
  "kernelspec": {
   "display_name": "Python 3",
   "language": "python",
   "name": "python3"
  },
  "language_info": {
   "codemirror_mode": {
    "name": "ipython",
    "version": 3
   },
   "file_extension": ".py",
   "mimetype": "text/x-python",
   "name": "python",
   "nbconvert_exporter": "python",
   "pygments_lexer": "ipython3",
   "version": "3.7.9"
  }
 },
 "nbformat": 4,
 "nbformat_minor": 2
}
