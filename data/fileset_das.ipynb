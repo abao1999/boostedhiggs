{
 "cells": [
  {
   "cell_type": "markdown",
   "metadata": {},
   "source": [
    "# Creating filesets of datasets\n",
    "\n",
    "This assumes that dataset has been published in DAS.\n",
    "The output files should be json files in the `infile` directory."
   ]
  },
  {
   "cell_type": "code",
   "execution_count": 1,
   "metadata": {},
   "outputs": [],
   "source": [
    "import os \n",
    "import json "
   ]
  },
  {
   "cell_type": "code",
   "execution_count": 2,
   "metadata": {},
   "outputs": [],
   "source": [
    "\"\"\"Make dictionary of datasets and its files\"\"\"\n",
    "filesets = {}\n",
    "\n",
    "# maximum files per json\n",
    "maxfiles_per_json = 20\n",
    "\n",
    "filesets['2017'] = {}\n",
    "\n",
    "# From Jan PFNano production\n",
    "# this is preUL\n",
    "datasets_preUL = !dasgoclient --query=\"dataset=/*/cmantill-RunIIFall17Jan22-PU2017_12Apr2018_94X_mc2017_realistic_v14-*-48cf03c3f8bf040d30c72392be4bf937/USER instance=prod/phys03\"\n",
    "# this is UL\n",
    "datasets_UL = !dasgoclient --query=\"dataset=/*/cmantill-RunIISummer19UL17Jan22-106X_mc2017_realistic_v6-v*-3c6a7e6cdd956a176f75369cad3a5feb/USER instance=prod/phys03\"\n",
    "\n",
    "datasets = datasets_preUL + datasets_UL\n",
    "for dataset in datasets:\n",
    "    newquery = \"file dataset=%s instance=prod/phys03\"%dataset\n",
    "    filearray = !dasgoclient --query=\"file ${newquery}\"\n",
    "    # warning - this only works for datasets  in FNAL\n",
    "    fileeosarray = [f.replace('/store/','root://cmseos.fnal.gov//store/') for f in filearray]\n",
    "    filesets['2017'][dataset.split('/')[1]] = fileeosarray\n",
    "    "
   ]
  },
  {
   "cell_type": "code",
   "execution_count": 3,
   "metadata": {},
   "outputs": [
    {
     "name": "stdout",
     "output_type": "stream",
     "text": [
      "dict_keys(['BulkGravTohhTohVVhbb_narrow_M-1000_TuneCP5_13TeV-madgraph-pythia8', 'BulkGravTohhTohVVhbb_narrow_M-1400_TuneCP5_13TeV-madgraph-pythia8', 'BulkGravTohhTohVVhbb_narrow_M-1800_TuneCP5_13TeV-madgraph-pythia8', 'BulkGravTohhTohVVhbb_narrow_M-2000_TuneCP5_13TeV-madgraph-pythia8', 'BulkGravTohhTohVVhbb_narrow_M-2500_TuneCP5_13TeV-madgraph-pythia8', 'BulkGravTohhTohVVhbb_narrow_M-4500_TuneCP5_13TeV-madgraph-pythia8', 'GluGluHToWWToLNuQQ_M125_NNPDF31_TuneCP5_PSweights_13TeV_powheg_JHUGen710_pythia8', 'GluGluToHHTo2B2VLNu2J_node_cHHH0_TuneCP5_PSWeights_13TeV-powheg-pythia8', 'GluGluToHHTo2B2VLNu2J_node_cHHH1_TuneCP5_PSWeights_13TeV-powheg-pythia8', 'GluGluToHHTo2B2VLNu2J_node_cHHH2p45_TuneCP5_PSWeights_13TeV-powheg-pythia8', 'GluGluToHHTo2B2VLNu2J_node_cHHH5_TuneCP5_PSWeights_13TeV-powheg-pythia8', 'GluGluToHHTo2B2WToLNu2J_node_10_TuneCP5_PSWeights_13TeV-madgraph-pythia8', 'GluGluToHHTo2B2WToLNu2J_node_11_TuneCP5_PSWeights_13TeV-madgraph-pythia8', 'GluGluToHHTo2B2WToLNu2J_node_12_TuneCP5_PSWeights_13TeV-madgraph-pythia8', 'GluGluToHHTo2B2WToLNu2J_node_1_TuneCP5_PSWeights_13TeV-madgraph-pythia8', 'GluGluToHHTo2B2WToLNu2J_node_2_TuneCP5_PSWeights_13TeV-madgraph-pythia8', 'GluGluToHHTo2B2WToLNu2J_node_3_TuneCP5_PSWeights_13TeV-madgraph-pythia8', 'GluGluToHHTo2B2WToLNu2J_node_4_TuneCP5_PSWeights_13TeV-madgraph-pythia8', 'GluGluToHHTo2B2WToLNu2J_node_5_TuneCP5_PSWeights_13TeV-madgraph-pythia8', 'GluGluToHHTo2B2WToLNu2J_node_6_TuneCP5_PSWeights_13TeV-madgraph-pythia8', 'GluGluToHHTo2B2WToLNu2J_node_7_TuneCP5_PSWeights_13TeV-madgraph-pythia8', 'GluGluToHHTo2B2WToLNu2J_node_8_TuneCP5_PSWeights_13TeV-madgraph-pythia8', 'GluGluToHHTo2B2WToLNu2J_node_9_TuneCP5_PSWeights_13TeV-madgraph-pythia8', 'GluGluToHHTo2B2WToLNu2J_node_SM_TuneCP5_PSWeights_13TeV-madgraph-pythia8', 'GluGluToHHTo4V_node_cHHH1_TuneCP5_PSWeights_13TeV-powheg-pythia8', 'GluGluZH_HToWW_M125_13TeV_powheg_pythia8_TuneCP5', 'HWminusJ_HToWW_M125_13TeV_powheg_pythia8_TuneCP5', 'HWplusJ_HToWW_M125_13TeV_powheg_pythia8_TuneCP5', 'HZJ_HToWW_M125_13TeV_powheg_jhugen714_pythia8_TuneCP5', 'Higgs0PHToWW_M125_13TeV_powheg2_JHUGenV710_pythia8', 'Radion_hh_hVVhbb_inclusive_narrow_M-1000_TuneCP5_13TeV-madgraph-pythia8', 'Radion_hh_hVVhbb_inclusive_narrow_M-1400_TuneCP5_13TeV-madgraph-pythia8', 'Radion_hh_hVVhbb_inclusive_narrow_M-1800_TuneCP5_13TeV-madgraph-pythia8', 'Radion_hh_hVVhbb_inclusive_narrow_M-2000_TuneCP5_13TeV-madgraph-pythia8', 'Radion_hh_hVVhbb_inclusive_narrow_M-3000_TuneCP5_13TeV-madgraph-pythia8', 'Radion_hh_hVVhbb_inclusive_narrow_M-4500_TuneCP5_13TeV-madgraph-pythia8', 'Radion_hh_htatahbb_inclusive_narrow_M1000_TuneCP5_13TeV-madgraph-pythia8', 'Radion_hh_htatahbb_inclusive_narrow_M1200_TuneCP5_13TeV-madgraph-pythia8', 'Radion_hh_htatahbb_inclusive_narrow_M1400_TuneCP5_13TeV-madgraph-pythia8', 'Radion_hh_htatahbb_inclusive_narrow_M1600_TuneCP5_13TeV-madgraph-pythia8', 'Radion_hh_htatahbb_inclusive_narrow_M1800_TuneCP5_13TeV-madgraph-pythia8', 'Radion_hh_htatahbb_inclusive_narrow_M2000_TuneCP5_13TeV-madgraph-pythia8', 'Radion_hh_htatahbb_inclusive_narrow_M2500_TuneCP5_13TeV-madgraph-pythia8', 'Radion_hh_htatahbb_inclusive_narrow_M3000_TuneCP5_13TeV-madgraph-pythia8', 'Radion_hh_htatahbb_inclusive_narrow_M3500_TuneCP5_13TeV-madgraph-pythia8', 'Radion_hh_htatahbb_inclusive_narrow_M4000_TuneCP5_13TeV-madgraph-pythia8', 'Radion_hh_htatahbb_inclusive_narrow_M4500_TuneCP5_13TeV-madgraph-pythia8', 'Radion_hh_htatahbb_inclusive_narrow_M800_TuneCP5_13TeV-madgraph-pythia8', 'Radion_hh_htatahbb_inclusive_narrow_M900_TuneCP5_13TeV-madgraph-pythia8', 'VBFHToWWToLNuQQ_M125_NNPDF31_TuneCP5_PSweights_13TeV_powheg_JHUGen710_pythia8', 'GluGluHToWWToLNuQQ_M125_TuneCP5_PSweight_13TeV-powheg2-jhugen727-pythia8', 'QCD_HT1000to1500_TuneCP5_PSWeights_13TeV-madgraphMLM-pythia8', 'QCD_HT1500to2000_TuneCP5_PSWeights_13TeV-madgraphMLM-pythia8', 'QCD_HT2000toInf_TuneCP5_PSWeights_13TeV-madgraphMLM-pythia8', 'QCD_HT300to500_TuneCP5_PSWeights_13TeV-madgraphMLM-pythia8', 'QCD_HT500to700_TuneCP5_PSWeights_13TeV-madgraphMLM-pythia8', 'QCD_HT700to1000_TuneCP5_PSWeights_13TeV-madgraphMLM-pythia8', 'TTToSemiLeptonic_TuneCP5_13TeV-powheg-pythia8'])\n"
     ]
    }
   ],
   "source": [
    "print(filesets['2017'].keys())\n",
    "with open(\"fileset_2017_das.json\", 'w') as json_file:\n",
    "    json.dump(filesets['2017'], json_file, indent=4, sort_keys=True)"
   ]
  },
  {
   "cell_type": "code",
   "execution_count": null,
   "metadata": {},
   "outputs": [],
   "source": [
    "def split(year,sets,maxfiles_per_json):\n",
    "    \n",
    "    prefix = 'root://cmsxrootd.fnal.gov/'\n",
    "    \n",
    "    fsets = []\n",
    "    for n,flist in sets[year].items():\n",
    "        for f in flist:\n",
    "            fsets.append({'file': prefix + f,\n",
    "                          'dataset': n})\n",
    "    nfiles = len(fsets)\n",
    "        \n",
    "    njsons = int(nfiles/maxfiles_per_json) + 1\n",
    "    \n",
    "    for i in range(0,njsons):\n",
    "        subfilesets = {}\n",
    "        for f in fsets[i*maxfiles_per_json:(i+1)*maxfiles_per_json]:\n",
    "            dataset = f['dataset']\n",
    "            if dataset in subfilesets:\n",
    "                subfilesets[dataset].append(f['file'])\n",
    "            else:\n",
    "                subfilesets[dataset] = [f['file']]\n",
    "\n",
    "        this_file = 'infiles/'+str(year)+'_'+str(i)+'.json'\n",
    "        with open(this_file, 'w') as json_file:\n",
    "            json.dump(subfilesets, json_file,indent=4, sort_keys=True)\n",
    "\n",
    "    print('Created ' + str(njsons) + ' files')"
   ]
  },
  {
   "cell_type": "code",
   "execution_count": null,
   "metadata": {},
   "outputs": [],
   "source": [
    "# Skipping this for now\n",
    "#split('2017',filesets,maxfiles_per_json)"
   ]
  }
 ],
 "metadata": {
  "kernelspec": {
   "display_name": "Python 3",
   "language": "python",
   "name": "python3"
  },
  "language_info": {
   "codemirror_mode": {
    "name": "ipython",
    "version": 3
   },
   "file_extension": ".py",
   "mimetype": "text/x-python",
   "name": "python",
   "nbconvert_exporter": "python",
   "pygments_lexer": "ipython3",
   "version": "3.7.6"
  }
 },
 "nbformat": 4,
 "nbformat_minor": 2
}
